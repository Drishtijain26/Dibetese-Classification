{
 "cells": [
  {
   "cell_type": "code",
   "execution_count": 1,
   "id": "377f4980",
   "metadata": {},
   "outputs": [],
   "source": [
    "import numpy as np                                       #Used for Entering the Data\n",
    "import pandas as pd                                      #Used for Data Analysis\n",
    "import matplotlib.pyplot as plt                          #Used for Data Manipulation (Graph plotting)\n",
    "from sklearn.datasets import make_classification         #Used for  making classification of data\n",
    "from sklearn.tree import DecisionTreeClassifier          #Used for importing Decision Tree Classifier\n",
    "from sklearn.model_selection import train_test_split     #Used to split data into subsets for training and testing data\n",
    "from sklearn import metrics                              #Used for importing metrics module for accuracy calculation\n",
    "from sklearn.metrics import r2_score                     #Used for Measuring the MSE and R-Squared values\n",
    "from sklearn.preprocessing import StandardScaler         #Used for Standardising the data\n",
    "from sklearn import tree"
   ]
  },
  {
   "cell_type": "code",
   "execution_count": 3,
   "id": "2322820d",
   "metadata": {},
   "outputs": [
    {
     "name": "stdout",
     "output_type": "stream",
     "text": [
      "THE DATASET IS\n",
      "     Pregnancies  Glucose  BloodPressure  SkinThickness  Insulin   BMI  \\\n",
      "0              6      148             72             35        0  33.6   \n",
      "1              1       85             66             29        0  26.6   \n",
      "2              8      183             64              0        0  23.3   \n",
      "3              1       89             66             23       94  28.1   \n",
      "4              0      137             40             35      168  43.1   \n",
      "..           ...      ...            ...            ...      ...   ...   \n",
      "763           10      101             76             48      180  32.9   \n",
      "764            2      122             70             27        0  36.8   \n",
      "765            5      121             72             23      112  26.2   \n",
      "766            1      126             60              0        0  30.1   \n",
      "767            1       93             70             31        0  30.4   \n",
      "\n",
      "     DiabetesPedigreeFunction  Age  Outcome  \n",
      "0                       0.627   50        1  \n",
      "1                       0.351   31        0  \n",
      "2                       0.672   32        1  \n",
      "3                       0.167   21        0  \n",
      "4                       2.288   33        1  \n",
      "..                        ...  ...      ...  \n",
      "763                     0.171   63        0  \n",
      "764                     0.340   27        0  \n",
      "765                     0.245   30        0  \n",
      "766                     0.349   47        1  \n",
      "767                     0.315   23        0  \n",
      "\n",
      "[768 rows x 9 columns]\n",
      "THE SHAPE OF THE DATASET IS\n",
      "(768, 9)\n"
     ]
    }
   ],
   "source": [
    "df = pd.read_csv('diabetes.csv.csv') #reading of given csv file\n",
    "print('THE DATASET IS')\n",
    "print(df)\n",
    "print('THE SHAPE OF THE DATASET IS')\n",
    "print(df.shape)"
   ]
  },
  {
   "cell_type": "code",
   "execution_count": 5,
   "id": "15559cd5",
   "metadata": {},
   "outputs": [
    {
     "name": "stdout",
     "output_type": "stream",
     "text": [
      "FIRST 5 ROWS\n",
      "-----------------------------------------------------------------------------------------------------------------------\n",
      "   Pregnancies  Glucose  BloodPressure  SkinThickness  Insulin   BMI  \\\n",
      "0            6      148             72             35        0  33.6   \n",
      "1            1       85             66             29        0  26.6   \n",
      "2            8      183             64              0        0  23.3   \n",
      "3            1       89             66             23       94  28.1   \n",
      "4            0      137             40             35      168  43.1   \n",
      "\n",
      "   DiabetesPedigreeFunction  Age  Outcome  \n",
      "0                     0.627   50        1  \n",
      "1                     0.351   31        0  \n",
      "2                     0.672   32        1  \n",
      "3                     0.167   21        0  \n",
      "4                     2.288   33        1  \n"
     ]
    }
   ],
   "source": [
    "print('FIRST 5 ROWS')\n",
    "print('-----------------------------------------------------------------------------------------------------------------------')\n",
    "print(df.head()) #it will print the first 5 rows"
   ]
  },
  {
   "cell_type": "code",
   "execution_count": 6,
   "id": "a44ed48d",
   "metadata": {},
   "outputs": [
    {
     "name": "stdout",
     "output_type": "stream",
     "text": [
      "Last 5 ROWS\n",
      "-----------------------------------------------------------------------------------------------------------------------\n",
      "     Pregnancies  Glucose  BloodPressure  SkinThickness  Insulin   BMI  \\\n",
      "763           10      101             76             48      180  32.9   \n",
      "764            2      122             70             27        0  36.8   \n",
      "765            5      121             72             23      112  26.2   \n",
      "766            1      126             60              0        0  30.1   \n",
      "767            1       93             70             31        0  30.4   \n",
      "\n",
      "     DiabetesPedigreeFunction  Age  Outcome  \n",
      "763                     0.171   63        0  \n",
      "764                     0.340   27        0  \n",
      "765                     0.245   30        0  \n",
      "766                     0.349   47        1  \n",
      "767                     0.315   23        0  \n"
     ]
    }
   ],
   "source": [
    "print('Last 5 ROWS')\n",
    "print('-----------------------------------------------------------------------------------------------------------------------')\n",
    "print(df.tail())       #it will print the last 5 rows"
   ]
  },
  {
   "cell_type": "code",
   "execution_count": 7,
   "id": "0e373f93",
   "metadata": {},
   "outputs": [
    {
     "name": "stdout",
     "output_type": "stream",
     "text": [
      "DESCRIPTION OF DATASET IS\n",
      "-----------------------------------------------------------------------------------------------------------------------\n",
      "       Pregnancies     Glucose  BloodPressure  SkinThickness     Insulin  \\\n",
      "count   768.000000  768.000000     768.000000     768.000000  768.000000   \n",
      "mean      3.845052  120.894531      69.105469      20.536458   79.799479   \n",
      "std       3.369578   31.972618      19.355807      15.952218  115.244002   \n",
      "min       0.000000    0.000000       0.000000       0.000000    0.000000   \n",
      "25%       1.000000   99.000000      62.000000       0.000000    0.000000   \n",
      "50%       3.000000  117.000000      72.000000      23.000000   30.500000   \n",
      "75%       6.000000  140.250000      80.000000      32.000000  127.250000   \n",
      "max      17.000000  199.000000     122.000000      99.000000  846.000000   \n",
      "\n",
      "              BMI  DiabetesPedigreeFunction         Age     Outcome  \n",
      "count  768.000000                768.000000  768.000000  768.000000  \n",
      "mean    31.992578                  0.471876   33.240885    0.348958  \n",
      "std      7.884160                  0.331329   11.760232    0.476951  \n",
      "min      0.000000                  0.078000   21.000000    0.000000  \n",
      "25%     27.300000                  0.243750   24.000000    0.000000  \n",
      "50%     32.000000                  0.372500   29.000000    0.000000  \n",
      "75%     36.600000                  0.626250   41.000000    1.000000  \n",
      "max     67.100000                  2.420000   81.000000    1.000000  \n"
     ]
    }
   ],
   "source": [
    "print('DESCRIPTION OF DATASET IS')\n",
    "print('-----------------------------------------------------------------------------------------------------------------------')\n",
    "print(df.describe())"
   ]
  },
  {
   "cell_type": "code",
   "execution_count": 8,
   "id": "c6de9a07",
   "metadata": {},
   "outputs": [
    {
     "name": "stdout",
     "output_type": "stream",
     "text": [
      "INFORMATION OF DATASET IS\n",
      "-----------------------------------------------------------------------------------------------------------------------\n",
      "<class 'pandas.core.frame.DataFrame'>\n",
      "RangeIndex: 768 entries, 0 to 767\n",
      "Data columns (total 9 columns):\n",
      " #   Column                    Non-Null Count  Dtype  \n",
      "---  ------                    --------------  -----  \n",
      " 0   Pregnancies               768 non-null    int64  \n",
      " 1   Glucose                   768 non-null    int64  \n",
      " 2   BloodPressure             768 non-null    int64  \n",
      " 3   SkinThickness             768 non-null    int64  \n",
      " 4   Insulin                   768 non-null    int64  \n",
      " 5   BMI                       768 non-null    float64\n",
      " 6   DiabetesPedigreeFunction  768 non-null    float64\n",
      " 7   Age                       768 non-null    int64  \n",
      " 8   Outcome                   768 non-null    int64  \n",
      "dtypes: float64(2), int64(7)\n",
      "memory usage: 54.1 KB\n",
      "None\n"
     ]
    }
   ],
   "source": [
    "print('INFORMATION OF DATASET IS')\n",
    "print('-----------------------------------------------------------------------------------------------------------------------')\n",
    "print(df.info())"
   ]
  },
  {
   "cell_type": "code",
   "execution_count": 9,
   "id": "51f97e59",
   "metadata": {},
   "outputs": [
    {
     "data": {
      "text/plain": [
       "Pregnancies                 0\n",
       "Glucose                     0\n",
       "BloodPressure               0\n",
       "SkinThickness               0\n",
       "Insulin                     0\n",
       "BMI                         0\n",
       "DiabetesPedigreeFunction    0\n",
       "Age                         0\n",
       "Outcome                     0\n",
       "dtype: int64"
      ]
     },
     "execution_count": 9,
     "metadata": {},
     "output_type": "execute_result"
    }
   ],
   "source": [
    "df.isnull().sum() #it will return 0 if the features are not empty"
   ]
  },
  {
   "cell_type": "code",
   "execution_count": 11,
   "id": "7c21f963",
   "metadata": {},
   "outputs": [],
   "source": [
    "feature=['Pregnancies','Glucose','BloodPressure','SkinThickness','Insulin','BMI','DiabetesPedigreeFunction','Age']\n",
    "x=df[feature].values\n",
    "y=df.Outcome.values"
   ]
  },
  {
   "cell_type": "code",
   "execution_count": 12,
   "id": "7b2fd882",
   "metadata": {},
   "outputs": [
    {
     "name": "stdout",
     "output_type": "stream",
     "text": [
      "(768, 8) (768,)\n"
     ]
    }
   ],
   "source": [
    "print(x.shape,y.shape)"
   ]
  },
  {
   "cell_type": "code",
   "execution_count": 13,
   "id": "5979c030",
   "metadata": {},
   "outputs": [
    {
     "data": {
      "text/plain": [
       "array([[  6.   , 148.   ,  72.   , ...,  33.6  ,   0.627,  50.   ],\n",
       "       [  1.   ,  85.   ,  66.   , ...,  26.6  ,   0.351,  31.   ],\n",
       "       [  8.   , 183.   ,  64.   , ...,  23.3  ,   0.672,  32.   ],\n",
       "       ...,\n",
       "       [  5.   , 121.   ,  72.   , ...,  26.2  ,   0.245,  30.   ],\n",
       "       [  1.   , 126.   ,  60.   , ...,  30.1  ,   0.349,  47.   ],\n",
       "       [  1.   ,  93.   ,  70.   , ...,  30.4  ,   0.315,  23.   ]])"
      ]
     },
     "execution_count": 13,
     "metadata": {},
     "output_type": "execute_result"
    }
   ],
   "source": [
    "x"
   ]
  },
  {
   "cell_type": "code",
   "execution_count": 14,
   "id": "252a3a5b",
   "metadata": {},
   "outputs": [
    {
     "data": {
      "text/plain": [
       "array([1, 0, 1, 0, 1, 0, 1, 0, 1, 1, 0, 1, 0, 1, 1, 1, 1, 1, 0, 1, 0, 0,\n",
       "       1, 1, 1, 1, 1, 0, 0, 0, 0, 1, 0, 0, 0, 0, 0, 1, 1, 1, 0, 0, 0, 1,\n",
       "       0, 1, 0, 0, 1, 0, 0, 0, 0, 1, 0, 0, 1, 0, 0, 0, 0, 1, 0, 0, 1, 0,\n",
       "       1, 0, 0, 0, 1, 0, 1, 0, 0, 0, 0, 0, 1, 0, 0, 0, 0, 0, 1, 0, 0, 0,\n",
       "       1, 0, 0, 0, 0, 1, 0, 0, 0, 0, 0, 1, 1, 0, 0, 0, 0, 0, 0, 0, 0, 1,\n",
       "       1, 1, 0, 0, 1, 1, 1, 0, 0, 0, 1, 0, 0, 0, 1, 1, 0, 0, 1, 1, 1, 1,\n",
       "       1, 0, 0, 0, 0, 0, 0, 0, 0, 0, 0, 1, 0, 0, 0, 0, 0, 0, 0, 0, 1, 0,\n",
       "       1, 1, 0, 0, 0, 1, 0, 0, 0, 0, 1, 1, 0, 0, 0, 0, 1, 1, 0, 0, 0, 1,\n",
       "       0, 1, 0, 1, 0, 0, 0, 0, 0, 1, 1, 1, 1, 1, 0, 0, 1, 1, 0, 1, 0, 1,\n",
       "       1, 1, 0, 0, 0, 0, 0, 0, 1, 1, 0, 1, 0, 0, 0, 1, 1, 1, 1, 0, 1, 1,\n",
       "       1, 1, 0, 0, 0, 0, 0, 1, 0, 0, 1, 1, 0, 0, 0, 1, 1, 1, 1, 0, 0, 0,\n",
       "       1, 1, 0, 1, 0, 0, 0, 0, 0, 0, 0, 0, 1, 1, 0, 0, 0, 1, 0, 1, 0, 0,\n",
       "       1, 0, 1, 0, 0, 1, 1, 0, 0, 0, 0, 0, 1, 0, 0, 0, 1, 0, 0, 1, 1, 0,\n",
       "       0, 1, 0, 0, 0, 1, 1, 1, 0, 0, 1, 0, 1, 0, 1, 1, 0, 1, 0, 0, 1, 0,\n",
       "       1, 1, 0, 0, 1, 0, 1, 0, 0, 1, 0, 1, 0, 1, 1, 1, 0, 0, 1, 0, 1, 0,\n",
       "       0, 0, 1, 0, 0, 0, 0, 1, 1, 1, 0, 0, 0, 0, 0, 0, 0, 0, 0, 1, 0, 0,\n",
       "       0, 0, 0, 1, 1, 1, 0, 1, 1, 0, 0, 1, 0, 0, 1, 0, 0, 1, 1, 0, 0, 0,\n",
       "       0, 1, 0, 0, 1, 0, 0, 0, 0, 0, 0, 0, 1, 1, 1, 0, 0, 1, 0, 0, 1, 0,\n",
       "       0, 1, 0, 1, 1, 0, 1, 0, 1, 0, 1, 0, 1, 1, 0, 0, 0, 0, 1, 1, 0, 1,\n",
       "       0, 1, 0, 0, 0, 0, 1, 1, 0, 1, 0, 1, 0, 0, 0, 0, 0, 1, 0, 0, 0, 0,\n",
       "       1, 0, 0, 1, 1, 1, 0, 0, 1, 0, 0, 1, 0, 0, 0, 1, 0, 0, 1, 0, 0, 0,\n",
       "       0, 0, 0, 0, 0, 0, 1, 0, 0, 0, 0, 0, 0, 0, 1, 0, 0, 0, 1, 0, 0, 0,\n",
       "       1, 1, 0, 0, 0, 0, 0, 0, 0, 1, 0, 0, 0, 0, 1, 0, 0, 0, 1, 0, 0, 0,\n",
       "       1, 0, 0, 0, 1, 0, 0, 0, 0, 1, 1, 0, 0, 0, 0, 0, 0, 1, 0, 0, 0, 0,\n",
       "       0, 0, 0, 0, 0, 0, 0, 1, 0, 0, 0, 1, 1, 1, 1, 0, 0, 1, 1, 0, 0, 0,\n",
       "       0, 0, 0, 0, 0, 0, 0, 0, 0, 0, 1, 1, 0, 0, 0, 0, 0, 0, 0, 1, 0, 0,\n",
       "       0, 0, 0, 0, 0, 1, 0, 1, 1, 0, 0, 0, 1, 0, 1, 0, 1, 0, 1, 0, 1, 0,\n",
       "       0, 1, 0, 0, 1, 0, 0, 0, 0, 1, 1, 0, 1, 0, 0, 0, 0, 1, 1, 0, 1, 0,\n",
       "       0, 0, 1, 1, 0, 0, 0, 0, 0, 0, 0, 0, 0, 0, 1, 0, 0, 0, 0, 1, 0, 0,\n",
       "       1, 0, 0, 0, 1, 0, 0, 0, 1, 1, 1, 0, 0, 0, 0, 0, 0, 1, 0, 0, 0, 1,\n",
       "       0, 1, 1, 1, 1, 0, 1, 1, 0, 0, 0, 0, 0, 0, 0, 1, 1, 0, 1, 0, 0, 1,\n",
       "       0, 1, 0, 0, 0, 0, 0, 1, 0, 1, 0, 1, 0, 1, 1, 0, 0, 0, 0, 1, 1, 0,\n",
       "       0, 0, 1, 0, 1, 1, 0, 0, 1, 0, 0, 1, 1, 0, 0, 1, 0, 0, 1, 0, 0, 0,\n",
       "       0, 0, 0, 0, 1, 1, 1, 0, 0, 0, 0, 0, 0, 1, 1, 0, 0, 1, 0, 0, 1, 0,\n",
       "       1, 1, 1, 0, 0, 1, 1, 1, 0, 1, 0, 1, 0, 1, 0, 0, 0, 0, 1, 0],\n",
       "      dtype=int64)"
      ]
     },
     "execution_count": 14,
     "metadata": {},
     "output_type": "execute_result"
    }
   ],
   "source": [
    "y"
   ]
  },
  {
   "cell_type": "code",
   "execution_count": 15,
   "id": "a4384d80",
   "metadata": {},
   "outputs": [
    {
     "data": {
      "text/plain": [
       "0    500\n",
       "1    268\n",
       "Name: Outcome, dtype: int64"
      ]
     },
     "execution_count": 15,
     "metadata": {},
     "output_type": "execute_result"
    }
   ],
   "source": [
    "df['Outcome'].value_counts()"
   ]
  },
  {
   "cell_type": "code",
   "execution_count": 22,
   "id": "3c832355",
   "metadata": {},
   "outputs": [
    {
     "name": "stdout",
     "output_type": "stream",
     "text": [
      "Stadraized Data  [[ 0.63994726  0.84832379  0.14964075 ...  0.20401277  0.46849198\n",
      "   1.4259954 ]\n",
      " [-0.84488505 -1.12339636 -0.16054575 ... -0.68442195 -0.36506078\n",
      "  -0.19067191]\n",
      " [ 1.23388019  1.94372388 -0.26394125 ... -1.10325546  0.60439732\n",
      "  -0.10558415]\n",
      " ...\n",
      " [ 0.3429808   0.00330087  0.14964075 ... -0.73518964 -0.68519336\n",
      "  -0.27575966]\n",
      " [-0.84488505  0.1597866  -0.47073225 ... -0.24020459 -0.37110101\n",
      "   1.17073215]\n",
      " [-0.84488505 -0.8730192   0.04624525 ... -0.20212881 -0.47378505\n",
      "  -0.87137393]]\n",
      "Standradize Input Data  [[ 6.57927651e+00 -2.93863079e+00 -9.87709745e-01  5.67460257e+00\n",
      "   6.61641192e-01  6.65066265e+01  1.81064608e+03  5.84347900e+01]]\n"
     ]
    }
   ],
   "source": [
    "std = StandardScaler()\n",
    "std_x = std.fit_transform(x)\n",
    "print(\"Stadraized Data \",std_x)\n",
    "X=std_x\n",
    "Xtrain,Xtest,ytrain,ytest = train_test_split(X,y,test_size=.2,random_state=12)\n",
    "#input data\n",
    "data=(26,27,50,111,156,556,600,720)\n",
    "# data as array\n",
    "array=np.array(data)\n",
    "#reshape array for only one instance\n",
    "input_reshape=array.reshape(1,-1)\n",
    "#Standradize data \n",
    "std_input=std.transform(input_reshape)\n",
    "print(\"Standradize Input Data \",std_input)"
   ]
  },
  {
   "cell_type": "code",
   "execution_count": 23,
   "id": "ff9a5c99",
   "metadata": {},
   "outputs": [
    {
     "name": "stdout",
     "output_type": "stream",
     "text": [
      "-----------------------------------------------------------------------------------------------------------------------\n",
      "TEST SCORE 0.7792207792207793\n",
      "-----------------------------------------------------------------------------------------------------------------------\n",
      "TRAIN SCORE 1.0\n",
      "PREDICTION OF THE MODEL\n",
      "-----------------------------------------------------------------------------------------------------------------------\n",
      "R2 SCORE\n",
      "0.038383838383838076\n",
      "[0 1 1 0 0 0 1 1 0 0 0 1 0 0 1 0 0 1 1 0 0 1 0 0 0 0 1 1 0 0 1 1 0 1 0 0 0\n",
      " 1 0 0 0 0 1 1 1 0 0 0 1 0 0 0 0 1 0 0 0 1 0 0 0 1 0 0 0 0 1 0 0 0 0 1 1 0\n",
      " 0 1 0 0 0 1 0 0 1 1 0 0 0 0 0 0 0 0 0 0 1 0 1 0 0 0 0 0 0 1 1 0 1 0 1 0 1\n",
      " 1 0 0 0 0 0 0 0 1 1 0 0 1 0 0 0 0 0 0 1 1 0 0 1 0 0 0 0 1 0 0 0 0 1 0 0 0\n",
      " 0 1 1 1 1 0]\n",
      "ACCURACY SCORE\n",
      "--------------------------------------------------------------------------------------------------------------------\n",
      "0.7792207792207793\n"
     ]
    }
   ],
   "source": [
    "dt=DecisionTreeClassifier()\n",
    "dt.fit(Xtrain,ytrain)\n",
    "test_score=dt.score(Xtest,ytest)\n",
    "print('-----------------------------------------------------------------------------------------------------------------------')\n",
    "print('TEST SCORE',test_score)\n",
    "train_score=dt.score(Xtrain,ytrain)\n",
    "print('-----------------------------------------------------------------------------------------------------------------------')\n",
    "print('TRAIN SCORE',train_score)\n",
    "print('PREDICTION OF THE MODEL')\n",
    "print('-----------------------------------------------------------------------------------------------------------------------')\n",
    "pred=dt.predict(Xtest)\n",
    "print('R2 SCORE')\n",
    "print(r2_score(ytest,pred))\n",
    "print(pred)\n",
    "print(\"ACCURACY SCORE\")\n",
    "print('--------------------------------------------------------------------------------------------------------------------')\n",
    "acc=metrics.accuracy_score(ytest,pred,normalize=True)\n",
    "print(acc)"
   ]
  },
  {
   "cell_type": "code",
   "execution_count": 25,
   "id": "20852edf",
   "metadata": {},
   "outputs": [
    {
     "data": {
      "text/plain": [
       "[Text(152.45357142857142, 195.696, 'X[1] <= 0.207\\ngini = 0.453\\nsamples = 614\\nvalue = [401, 213]'),\n",
       " Text(65.76428571428572, 152.208, 'X[7] <= -0.403\\ngini = 0.31\\nsamples = 391\\nvalue = [316, 75]'),\n",
       " Text(35.871428571428574, 108.72, 'X[5] <= 1.702\\ngini = 0.164\\nsamples = 222\\nvalue = [202, 20]'),\n",
       " Text(23.914285714285715, 65.232, 'X[5] <= -0.132\\ngini = 0.143\\nsamples = 219\\nvalue = [202, 17]'),\n",
       " Text(11.957142857142857, 21.744, 'gini = 0.032\\nsamples = 122\\nvalue = [120, 2]'),\n",
       " Text(35.871428571428574, 21.744, 'gini = 0.261\\nsamples = 97\\nvalue = [82, 15]'),\n",
       " Text(47.82857142857143, 65.232, 'gini = 0.0\\nsamples = 3\\nvalue = [0, 3]'),\n",
       " Text(95.65714285714286, 108.72, 'X[1] <= -0.763\\ngini = 0.439\\nsamples = 169\\nvalue = [114, 55]'),\n",
       " Text(71.74285714285715, 65.232, 'X[4] <= 0.636\\ngini = 0.162\\nsamples = 45\\nvalue = [41, 4]'),\n",
       " Text(59.785714285714285, 21.744, 'gini = 0.089\\nsamples = 43\\nvalue = [41, 2]'),\n",
       " Text(83.7, 21.744, 'gini = 0.0\\nsamples = 2\\nvalue = [0, 2]'),\n",
       " Text(119.57142857142857, 65.232, 'X[5] <= -0.716\\ngini = 0.484\\nsamples = 124\\nvalue = [73, 51]'),\n",
       " Text(107.61428571428571, 21.744, 'gini = 0.172\\nsamples = 21\\nvalue = [19, 2]'),\n",
       " Text(131.52857142857144, 21.744, 'gini = 0.499\\nsamples = 103\\nvalue = [54, 49]'),\n",
       " Text(239.14285714285714, 152.208, 'X[5] <= -0.259\\ngini = 0.472\\nsamples = 223\\nvalue = [85, 138]'),\n",
       " Text(191.31428571428572, 108.72, 'X[1] <= 0.77\\ngini = 0.444\\nsamples = 60\\nvalue = [40, 20]'),\n",
       " Text(167.4, 65.232, 'X[3] <= 0.845\\ngini = 0.291\\nsamples = 34\\nvalue = [28, 6]'),\n",
       " Text(155.44285714285715, 21.744, 'gini = 0.257\\nsamples = 33\\nvalue = [28, 5]'),\n",
       " Text(179.35714285714286, 21.744, 'gini = 0.0\\nsamples = 1\\nvalue = [0, 1]'),\n",
       " Text(215.22857142857143, 65.232, 'X[5] <= -1.129\\ngini = 0.497\\nsamples = 26\\nvalue = [12, 14]'),\n",
       " Text(203.27142857142857, 21.744, 'gini = 0.0\\nsamples = 3\\nvalue = [3, 0]'),\n",
       " Text(227.18571428571428, 21.744, 'gini = 0.476\\nsamples = 23\\nvalue = [9, 14]'),\n",
       " Text(286.9714285714286, 108.72, 'X[6] <= -0.492\\ngini = 0.4\\nsamples = 163\\nvalue = [45, 118]'),\n",
       " Text(263.0571428571429, 65.232, 'X[1] <= 1.052\\ngini = 0.499\\nsamples = 50\\nvalue = [24, 26]'),\n",
       " Text(251.1, 21.744, 'gini = 0.453\\nsamples = 26\\nvalue = [17, 9]'),\n",
       " Text(275.01428571428573, 21.744, 'gini = 0.413\\nsamples = 24\\nvalue = [7, 17]'),\n",
       " Text(310.8857142857143, 65.232, 'X[1] <= 1.396\\ngini = 0.303\\nsamples = 113\\nvalue = [21, 92]'),\n",
       " Text(298.92857142857144, 21.744, 'gini = 0.378\\nsamples = 75\\nvalue = [19, 56]'),\n",
       " Text(322.84285714285716, 21.744, 'gini = 0.1\\nsamples = 38\\nvalue = [2, 36]')]"
      ]
     },
     "execution_count": 25,
     "metadata": {},
     "output_type": "execute_result"
    },
    {
     "data": {
      "image/png": "[encoded data removed]",
      "text/plain": [
       "<Figure size 432x288 with 1 Axes>"
      ]
     },
     "metadata": {
      "needs_background": "light"
     },
     "output_type": "display_data"
    }
   ],
   "source": [
    "from sklearn import tree\n",
    "dtc=DecisionTreeClassifier(criterion='gini',max_depth=4)\n",
    "dtc=dtc.fit(Xtrain,ytrain)\n",
    "tree.plot_tree(dtc)"
   ]
  },
  {
   "cell_type": "code",
   "execution_count": 27,
   "id": "273f0f57",
   "metadata": {},
   "outputs": [
    {
     "name": "stdout",
     "output_type": "stream",
     "text": [
      "Prediction For Diabetic Person: [1]\n"
     ]
    }
   ],
   "source": [
    "pred1=dt.predict(std_input)\n",
    "print(\"Prediction For Diabetic Person:\",pred1)"
   ]
  },
  {
   "cell_type": "code",
   "execution_count": 28,
   "id": "ea2ed0a2",
   "metadata": {},
   "outputs": [
    {
     "name": "stdout",
     "output_type": "stream",
     "text": [
      "The Person is diabetic\n"
     ]
    }
   ],
   "source": [
    "if (pred1[0]==0):\n",
    "  print(\"The Person is non-diabetic\")\n",
    "else:\n",
    "  print(\"The Person is diabetic\")\n",
    "  "
   ]
  },
  {
   "cell_type": "code",
   "execution_count": null,
   "id": "3005211c",
   "metadata": {},
   "outputs": [],
   "source": []
  }
 ],
 "metadata": {
  "kernelspec": {
   "display_name": "Python 3 (ipykernel)",
   "language": "python",
   "name": "python3"
  },
  "language_info": {
   "codemirror_mode": {
    "name": "ipython",
    "version": 3
   },
   "file_extension": ".py",
   "mimetype": "text/x-python",
   "name": "python",
   "nbconvert_exporter": "python",
   "pygments_lexer": "ipython3",
   "version": "3.9.7"
  }
 },
 "nbformat": 4,
 "nbformat_minor": 5
}
