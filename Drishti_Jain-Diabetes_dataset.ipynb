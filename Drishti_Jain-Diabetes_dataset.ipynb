{
 "cells": [
  {
   "cell_type": "code",
   "execution_count": 35,
   "id": "e5b1e187",
   "metadata": {},
   "outputs": [],
   "source": [
    "import numpy as np                                       #Used for Entering the Data\n",
    "import pandas as pd                                      #Used for Data Analysis\n",
    "import matplotlib.pyplot as plt                          #Used for Data Manipulation (Graph plotting)\n",
    "from sklearn.datasets import make_classification         #Used for  making classification of data\n",
    "from sklearn.tree import DecisionTreeClassifier          #Used for importing Decision Tree Classifier\n",
    "from sklearn.model_selection import train_test_split     #Used to split data into subsets for training and testing data\n",
    "from sklearn import metrics                              #Used for importing metrics module for accuracy calculation\n",
    "from sklearn.metrics import r2_score                     #Used for Measuring the MSE and R-Squared values\n",
    "from sklearn.preprocessing import StandardScaler as std  #Used for Standardising the data"
   ]
  },
  {
   "cell_type": "code",
   "execution_count": 2,
   "id": "d015d0fd",
   "metadata": {},
   "outputs": [
    {
     "name": "stdout",
     "output_type": "stream",
     "text": [
      "     Pregnancies  Glucose  BloodPressure  SkinThickness  Insulin   BMI  \\\n",
      "0              6      148             72             35        0  33.6   \n",
      "1              1       85             66             29        0  26.6   \n",
      "2              8      183             64              0        0  23.3   \n",
      "3              1       89             66             23       94  28.1   \n",
      "4              0      137             40             35      168  43.1   \n",
      "..           ...      ...            ...            ...      ...   ...   \n",
      "763           10      101             76             48      180  32.9   \n",
      "764            2      122             70             27        0  36.8   \n",
      "765            5      121             72             23      112  26.2   \n",
      "766            1      126             60              0        0  30.1   \n",
      "767            1       93             70             31        0  30.4   \n",
      "\n",
      "     DiabetesPedigreeFunction  Age  Outcome  \n",
      "0                       0.627   50        1  \n",
      "1                       0.351   31        0  \n",
      "2                       0.672   32        1  \n",
      "3                       0.167   21        0  \n",
      "4                       2.288   33        1  \n",
      "..                        ...  ...      ...  \n",
      "763                     0.171   63        0  \n",
      "764                     0.340   27        0  \n",
      "765                     0.245   30        0  \n",
      "766                     0.349   47        1  \n",
      "767                     0.315   23        0  \n",
      "\n",
      "[768 rows x 9 columns]\n"
     ]
    }
   ],
   "source": [
    "df = pd.read_csv('diabetes.csv.csv') #reading of given csv file\n",
    "print(df)"
   ]
  },
  {
   "cell_type": "code",
   "execution_count": 3,
   "id": "3221e759",
   "metadata": {},
   "outputs": [
    {
     "data": {
      "text/html": [
       "<div>\n",
       "<style scoped>\n",
       "    .dataframe tbody tr th:only-of-type {\n",
       "        vertical-align: middle;\n",
       "    }\n",
       "\n",
       "    .dataframe tbody tr th {\n",
       "        vertical-align: top;\n",
       "    }\n",
       "\n",
       "    .dataframe thead th {\n",
       "        text-align: right;\n",
       "    }\n",
       "</style>\n",
       "<table border=\"1\" class=\"dataframe\">\n",
       "  <thead>\n",
       "    <tr style=\"text-align: right;\">\n",
       "      <th></th>\n",
       "      <th>Pregnancies</th>\n",
       "      <th>Glucose</th>\n",
       "      <th>BloodPressure</th>\n",
       "      <th>SkinThickness</th>\n",
       "      <th>Insulin</th>\n",
       "      <th>BMI</th>\n",
       "      <th>DiabetesPedigreeFunction</th>\n",
       "      <th>Age</th>\n",
       "      <th>Outcome</th>\n",
       "    </tr>\n",
       "  </thead>\n",
       "  <tbody>\n",
       "    <tr>\n",
       "      <th>0</th>\n",
       "      <td>6</td>\n",
       "      <td>148</td>\n",
       "      <td>72</td>\n",
       "      <td>35</td>\n",
       "      <td>0</td>\n",
       "      <td>33.6</td>\n",
       "      <td>0.627</td>\n",
       "      <td>50</td>\n",
       "      <td>1</td>\n",
       "    </tr>\n",
       "    <tr>\n",
       "      <th>1</th>\n",
       "      <td>1</td>\n",
       "      <td>85</td>\n",
       "      <td>66</td>\n",
       "      <td>29</td>\n",
       "      <td>0</td>\n",
       "      <td>26.6</td>\n",
       "      <td>0.351</td>\n",
       "      <td>31</td>\n",
       "      <td>0</td>\n",
       "    </tr>\n",
       "    <tr>\n",
       "      <th>2</th>\n",
       "      <td>8</td>\n",
       "      <td>183</td>\n",
       "      <td>64</td>\n",
       "      <td>0</td>\n",
       "      <td>0</td>\n",
       "      <td>23.3</td>\n",
       "      <td>0.672</td>\n",
       "      <td>32</td>\n",
       "      <td>1</td>\n",
       "    </tr>\n",
       "    <tr>\n",
       "      <th>3</th>\n",
       "      <td>1</td>\n",
       "      <td>89</td>\n",
       "      <td>66</td>\n",
       "      <td>23</td>\n",
       "      <td>94</td>\n",
       "      <td>28.1</td>\n",
       "      <td>0.167</td>\n",
       "      <td>21</td>\n",
       "      <td>0</td>\n",
       "    </tr>\n",
       "    <tr>\n",
       "      <th>4</th>\n",
       "      <td>0</td>\n",
       "      <td>137</td>\n",
       "      <td>40</td>\n",
       "      <td>35</td>\n",
       "      <td>168</td>\n",
       "      <td>43.1</td>\n",
       "      <td>2.288</td>\n",
       "      <td>33</td>\n",
       "      <td>1</td>\n",
       "    </tr>\n",
       "  </tbody>\n",
       "</table>\n",
       "</div>"
      ],
      "text/plain": [
       "   Pregnancies  Glucose  BloodPressure  SkinThickness  Insulin   BMI  \\\n",
       "0            6      148             72             35        0  33.6   \n",
       "1            1       85             66             29        0  26.6   \n",
       "2            8      183             64              0        0  23.3   \n",
       "3            1       89             66             23       94  28.1   \n",
       "4            0      137             40             35      168  43.1   \n",
       "\n",
       "   DiabetesPedigreeFunction  Age  Outcome  \n",
       "0                     0.627   50        1  \n",
       "1                     0.351   31        0  \n",
       "2                     0.672   32        1  \n",
       "3                     0.167   21        0  \n",
       "4                     2.288   33        1  "
      ]
     },
     "execution_count": 3,
     "metadata": {},
     "output_type": "execute_result"
    }
   ],
   "source": [
    "df.head() #it will print the first 5 rows"
   ]
  },
  {
   "cell_type": "code",
   "execution_count": 4,
   "id": "9fd8e93f",
   "metadata": {},
   "outputs": [
    {
     "data": {
      "text/html": [
       "<div>\n",
       "<style scoped>\n",
       "    .dataframe tbody tr th:only-of-type {\n",
       "        vertical-align: middle;\n",
       "    }\n",
       "\n",
       "    .dataframe tbody tr th {\n",
       "        vertical-align: top;\n",
       "    }\n",
       "\n",
       "    .dataframe thead th {\n",
       "        text-align: right;\n",
       "    }\n",
       "</style>\n",
       "<table border=\"1\" class=\"dataframe\">\n",
       "  <thead>\n",
       "    <tr style=\"text-align: right;\">\n",
       "      <th></th>\n",
       "      <th>Pregnancies</th>\n",
       "      <th>Glucose</th>\n",
       "      <th>BloodPressure</th>\n",
       "      <th>SkinThickness</th>\n",
       "      <th>Insulin</th>\n",
       "      <th>BMI</th>\n",
       "      <th>DiabetesPedigreeFunction</th>\n",
       "      <th>Age</th>\n",
       "      <th>Outcome</th>\n",
       "    </tr>\n",
       "  </thead>\n",
       "  <tbody>\n",
       "    <tr>\n",
       "      <th>763</th>\n",
       "      <td>10</td>\n",
       "      <td>101</td>\n",
       "      <td>76</td>\n",
       "      <td>48</td>\n",
       "      <td>180</td>\n",
       "      <td>32.9</td>\n",
       "      <td>0.171</td>\n",
       "      <td>63</td>\n",
       "      <td>0</td>\n",
       "    </tr>\n",
       "    <tr>\n",
       "      <th>764</th>\n",
       "      <td>2</td>\n",
       "      <td>122</td>\n",
       "      <td>70</td>\n",
       "      <td>27</td>\n",
       "      <td>0</td>\n",
       "      <td>36.8</td>\n",
       "      <td>0.340</td>\n",
       "      <td>27</td>\n",
       "      <td>0</td>\n",
       "    </tr>\n",
       "    <tr>\n",
       "      <th>765</th>\n",
       "      <td>5</td>\n",
       "      <td>121</td>\n",
       "      <td>72</td>\n",
       "      <td>23</td>\n",
       "      <td>112</td>\n",
       "      <td>26.2</td>\n",
       "      <td>0.245</td>\n",
       "      <td>30</td>\n",
       "      <td>0</td>\n",
       "    </tr>\n",
       "    <tr>\n",
       "      <th>766</th>\n",
       "      <td>1</td>\n",
       "      <td>126</td>\n",
       "      <td>60</td>\n",
       "      <td>0</td>\n",
       "      <td>0</td>\n",
       "      <td>30.1</td>\n",
       "      <td>0.349</td>\n",
       "      <td>47</td>\n",
       "      <td>1</td>\n",
       "    </tr>\n",
       "    <tr>\n",
       "      <th>767</th>\n",
       "      <td>1</td>\n",
       "      <td>93</td>\n",
       "      <td>70</td>\n",
       "      <td>31</td>\n",
       "      <td>0</td>\n",
       "      <td>30.4</td>\n",
       "      <td>0.315</td>\n",
       "      <td>23</td>\n",
       "      <td>0</td>\n",
       "    </tr>\n",
       "  </tbody>\n",
       "</table>\n",
       "</div>"
      ],
      "text/plain": [
       "     Pregnancies  Glucose  BloodPressure  SkinThickness  Insulin   BMI  \\\n",
       "763           10      101             76             48      180  32.9   \n",
       "764            2      122             70             27        0  36.8   \n",
       "765            5      121             72             23      112  26.2   \n",
       "766            1      126             60              0        0  30.1   \n",
       "767            1       93             70             31        0  30.4   \n",
       "\n",
       "     DiabetesPedigreeFunction  Age  Outcome  \n",
       "763                     0.171   63        0  \n",
       "764                     0.340   27        0  \n",
       "765                     0.245   30        0  \n",
       "766                     0.349   47        1  \n",
       "767                     0.315   23        0  "
      ]
     },
     "execution_count": 4,
     "metadata": {},
     "output_type": "execute_result"
    }
   ],
   "source": [
    "df.tail() #it will print the last 5 rows"
   ]
  },
  {
   "cell_type": "code",
   "execution_count": 5,
   "id": "fff56bc2",
   "metadata": {
    "scrolled": true
   },
   "outputs": [
    {
     "name": "stdout",
     "output_type": "stream",
     "text": [
      "DESCRIPTION OF DATASET IS\n",
      "-----------------------------------------------------------------------------------------------------------------------\n",
      "       Pregnancies     Glucose  BloodPressure  SkinThickness     Insulin  \\\n",
      "count   768.000000  768.000000     768.000000     768.000000  768.000000   \n",
      "mean      3.845052  120.894531      69.105469      20.536458   79.799479   \n",
      "std       3.369578   31.972618      19.355807      15.952218  115.244002   \n",
      "min       0.000000    0.000000       0.000000       0.000000    0.000000   \n",
      "25%       1.000000   99.000000      62.000000       0.000000    0.000000   \n",
      "50%       3.000000  117.000000      72.000000      23.000000   30.500000   \n",
      "75%       6.000000  140.250000      80.000000      32.000000  127.250000   \n",
      "max      17.000000  199.000000     122.000000      99.000000  846.000000   \n",
      "\n",
      "              BMI  DiabetesPedigreeFunction         Age     Outcome  \n",
      "count  768.000000                768.000000  768.000000  768.000000  \n",
      "mean    31.992578                  0.471876   33.240885    0.348958  \n",
      "std      7.884160                  0.331329   11.760232    0.476951  \n",
      "min      0.000000                  0.078000   21.000000    0.000000  \n",
      "25%     27.300000                  0.243750   24.000000    0.000000  \n",
      "50%     32.000000                  0.372500   29.000000    0.000000  \n",
      "75%     36.600000                  0.626250   41.000000    1.000000  \n",
      "max     67.100000                  2.420000   81.000000    1.000000  \n"
     ]
    }
   ],
   "source": [
    "print('DESCRIPTION OF DATASET IS')\n",
    "print('-----------------------------------------------------------------------------------------------------------------------')\n",
    "print(df.describe())"
   ]
  },
  {
   "cell_type": "code",
   "execution_count": 6,
   "id": "690133b2",
   "metadata": {},
   "outputs": [
    {
     "name": "stdout",
     "output_type": "stream",
     "text": [
      "INFORMATION OF THE DATASET IS\n",
      "-----------------------------------------------------------------------------------------------------------------------\n",
      "<class 'pandas.core.frame.DataFrame'>\n",
      "RangeIndex: 768 entries, 0 to 767\n",
      "Data columns (total 9 columns):\n",
      " #   Column                    Non-Null Count  Dtype  \n",
      "---  ------                    --------------  -----  \n",
      " 0   Pregnancies               768 non-null    int64  \n",
      " 1   Glucose                   768 non-null    int64  \n",
      " 2   BloodPressure             768 non-null    int64  \n",
      " 3   SkinThickness             768 non-null    int64  \n",
      " 4   Insulin                   768 non-null    int64  \n",
      " 5   BMI                       768 non-null    float64\n",
      " 6   DiabetesPedigreeFunction  768 non-null    float64\n",
      " 7   Age                       768 non-null    int64  \n",
      " 8   Outcome                   768 non-null    int64  \n",
      "dtypes: float64(2), int64(7)\n",
      "memory usage: 54.1 KB\n",
      "None\n"
     ]
    }
   ],
   "source": [
    "\n",
    "print('-----------------------------------------------------------------------------------------------------------------------')"
   ]
  },
  {
   "cell_type": "code",
   "execution_count": 8,
   "id": "67683d55",
   "metadata": {},
   "outputs": [
    {
     "data": {
      "text/plain": [
       "Pregnancies                 0\n",
       "Glucose                     0\n",
       "BloodPressure               0\n",
       "SkinThickness               0\n",
       "Insulin                     0\n",
       "BMI                         0\n",
       "DiabetesPedigreeFunction    0\n",
       "Age                         0\n",
       "Outcome                     0\n",
       "dtype: int64"
      ]
     },
     "execution_count": 8,
     "metadata": {},
     "output_type": "execute_result"
    }
   ],
   "source": [
    "df.isnull().sum() #it will return 0 if the features are not empty"
   ]
  },
  {
   "cell_type": "code",
   "execution_count": 7,
   "id": "8e90038f",
   "metadata": {},
   "outputs": [],
   "source": [
    "feature=['Pregnancies','Glucose','BloodPressure','SkinThickness','Insulin','BMI','DiabetesPedigreeFunction','Age']\n",
    "x=df[feature].values\n",
    "y=df[Outcome].values"
   ]
  },
  {
   "cell_type": "code",
   "execution_count": 19,
   "id": "66cba063",
   "metadata": {},
   "outputs": [
    {
     "name": "stdout",
     "output_type": "stream",
     "text": [
      "(614, 8)\n",
      "----------------------------------------------------------------------------------------------------------------------\n",
      "(154, 8)\n"
     ]
    }
   ],
   "source": [
    "xtrain,xtest,ytrain,ytest=train_test_split(x,y,test_size=0.2,train_size=0.8,random_state=12)\n",
    "print(xtrain.shape)#shape of training data\n",
    "print('----------------------------------------------------------------------------------------------------------------------')\n",
    "print(xtest.shape)#shape of testing data"
   ]
  },
  {
   "cell_type": "code",
   "execution_count": 33,
   "id": "c1355286",
   "metadata": {},
   "outputs": [
    {
     "name": "stdout",
     "output_type": "stream",
     "text": [
      "-----------------------------------------------------------------------------------------------------------------------\n",
      "TEST SCORE 0.8051948051948052\n",
      "-----------------------------------------------------------------------------------------------------------------------\n",
      "TRAIN SCORE 1.0\n",
      "PREDICTION OF THE MODEL\n",
      "-----------------------------------------------------------------------------------------------------------------------\n",
      "R2 SCORE\n",
      "0.15151515151515127\n",
      "[0 1 1 0 0 0 1 0 0 0 0 1 0 0 1 0 0 1 1 0 0 1 0 0 1 0 1 1 1 0 1 1 0 1 0 0 0\n",
      " 1 0 0 0 0 1 1 1 0 0 0 1 0 0 0 0 1 0 0 0 1 0 0 0 1 0 0 0 0 1 0 0 0 0 1 1 0\n",
      " 0 1 0 0 0 1 0 0 1 1 0 0 0 0 0 0 0 0 0 0 1 1 1 0 0 0 0 0 0 1 1 0 1 0 1 0 1\n",
      " 1 0 0 0 0 0 0 0 1 1 0 0 1 0 0 0 0 0 0 1 1 0 0 1 0 0 0 0 1 0 0 0 0 1 0 0 0\n",
      " 0 1 1 1 1 0]\n"
     ]
    }
   ],
   "source": [
    "dt=DecisionTreeClassifier()\n",
    "dt.fit(xtrain,ytrain)\n",
    "test_score=dt.score(xtest,ytest)\n",
    "print('-----------------------------------------------------------------------------------------------------------------------')\n",
    "print('TEST SCORE',test_score)\n",
    "train_score=dt.score(xtrain,ytrain)\n",
    "print('-----------------------------------------------------------------------------------------------------------------------')\n",
    "print('TRAIN SCORE',train_score)\n",
    "print('PREDICTION OF THE MODEL')\n",
    "print('-----------------------------------------------------------------------------------------------------------------------')\n",
    "pred=dt.predict(xtest)\n",
    "print('R2 SCORE')\n",
    "print(r2_score(ytest,pred))\n",
    "print(pred)"
   ]
  },
  {
   "cell_type": "code",
   "execution_count": 32,
   "id": "9101640d",
   "metadata": {},
   "outputs": [
    {
     "name": "stdout",
     "output_type": "stream",
     "text": [
      "ACCURACY SCORE\n",
      "--------------------------------------------------------------------------------------------------------------------\n",
      "0.7597402597402597\n"
     ]
    }
   ],
   "source": [
    "from sklearn import metrics\n",
    "print(\"ACCURACY SCORE\")\n",
    "print('--------------------------------------------------------------------------------------------------------------------')\n",
    "acc=metrics.accuracy_score(ytest,pred,normalize=True)\n",
    "print(acc)"
   ]
  },
  {
   "cell_type": "code",
   "execution_count": 29,
   "id": "7cbb2d31",
   "metadata": {},
   "outputs": [
    {
     "data": {
      "text/plain": [
       "[Text(152.45357142857142, 195.696, 'X[1] <= 127.5\\ngini = 0.453\\nsamples = 614\\nvalue = [401, 213]'),\n",
       " Text(65.76428571428572, 152.208, 'X[7] <= 28.5\\ngini = 0.31\\nsamples = 391\\nvalue = [316, 75]'),\n",
       " Text(35.871428571428574, 108.72, 'X[5] <= 45.4\\ngini = 0.164\\nsamples = 222\\nvalue = [202, 20]'),\n",
       " Text(23.914285714285715, 65.232, 'X[5] <= 30.95\\ngini = 0.143\\nsamples = 219\\nvalue = [202, 17]'),\n",
       " Text(11.957142857142857, 21.744, 'gini = 0.032\\nsamples = 122\\nvalue = [120, 2]'),\n",
       " Text(35.871428571428574, 21.744, 'gini = 0.261\\nsamples = 97\\nvalue = [82, 15]'),\n",
       " Text(47.82857142857143, 65.232, 'gini = 0.0\\nsamples = 3\\nvalue = [0, 3]'),\n",
       " Text(95.65714285714286, 108.72, 'X[1] <= 96.5\\ngini = 0.439\\nsamples = 169\\nvalue = [114, 55]'),\n",
       " Text(71.74285714285715, 65.232, 'X[4] <= 153.0\\ngini = 0.162\\nsamples = 45\\nvalue = [41, 4]'),\n",
       " Text(59.785714285714285, 21.744, 'gini = 0.089\\nsamples = 43\\nvalue = [41, 2]'),\n",
       " Text(83.7, 21.744, 'gini = 0.0\\nsamples = 2\\nvalue = [0, 2]'),\n",
       " Text(119.57142857142857, 65.232, 'X[5] <= 26.35\\ngini = 0.484\\nsamples = 124\\nvalue = [73, 51]'),\n",
       " Text(107.61428571428571, 21.744, 'gini = 0.172\\nsamples = 21\\nvalue = [19, 2]'),\n",
       " Text(131.52857142857144, 21.744, 'gini = 0.499\\nsamples = 103\\nvalue = [54, 49]'),\n",
       " Text(239.14285714285714, 152.208, 'X[5] <= 29.95\\ngini = 0.472\\nsamples = 223\\nvalue = [85, 138]'),\n",
       " Text(191.31428571428572, 108.72, 'X[1] <= 145.5\\ngini = 0.444\\nsamples = 60\\nvalue = [40, 20]'),\n",
       " Text(167.4, 65.232, 'X[3] <= 34.0\\ngini = 0.291\\nsamples = 34\\nvalue = [28, 6]'),\n",
       " Text(155.44285714285715, 21.744, 'gini = 0.257\\nsamples = 33\\nvalue = [28, 5]'),\n",
       " Text(179.35714285714286, 21.744, 'gini = 0.0\\nsamples = 1\\nvalue = [0, 1]'),\n",
       " Text(215.22857142857143, 65.232, 'X[5] <= 23.1\\ngini = 0.497\\nsamples = 26\\nvalue = [12, 14]'),\n",
       " Text(203.27142857142857, 21.744, 'gini = 0.0\\nsamples = 3\\nvalue = [3, 0]'),\n",
       " Text(227.18571428571428, 21.744, 'gini = 0.476\\nsamples = 23\\nvalue = [9, 14]'),\n",
       " Text(286.9714285714286, 108.72, 'X[6] <= 0.309\\ngini = 0.4\\nsamples = 163\\nvalue = [45, 118]'),\n",
       " Text(263.0571428571429, 65.232, 'X[1] <= 154.5\\ngini = 0.499\\nsamples = 50\\nvalue = [24, 26]'),\n",
       " Text(251.1, 21.744, 'gini = 0.453\\nsamples = 26\\nvalue = [17, 9]'),\n",
       " Text(275.01428571428573, 21.744, 'gini = 0.413\\nsamples = 24\\nvalue = [7, 17]'),\n",
       " Text(310.8857142857143, 65.232, 'X[1] <= 165.5\\ngini = 0.303\\nsamples = 113\\nvalue = [21, 92]'),\n",
       " Text(298.92857142857144, 21.744, 'gini = 0.378\\nsamples = 75\\nvalue = [19, 56]'),\n",
       " Text(322.84285714285716, 21.744, 'gini = 0.1\\nsamples = 38\\nvalue = [2, 36]')]"
      ]
     },
     "execution_count": 29,
     "metadata": {},
     "output_type": "execute_result"
    },
    {
     "data": {
      "image/png": "[encoded data removed]",
      "text/plain": [
       "<Figure size 432x288 with 1 Axes>"
      ]
     },
     "metadata": {
      "needs_background": "light"
     },
     "output_type": "display_data"
    }
   ],
   "source": [
    "from sklearn import tree\n",
    "dtc=DecisionTreeClassifier(criterion='gini',max_depth=4)\n",
    "dtc=dtc.fit(xtrain,ytrain)\n",
    "tree.plot_tree(dtc)"
   ]
  },
  {
   "cell_type": "code",
   "execution_count": 36,
   "id": "d8398153",
   "metadata": {},
   "outputs": [
    {
     "ename": "TypeError",
     "evalue": "fit_transform() missing 1 required positional argument: 'X'",
     "output_type": "error",
     "traceback": [
      "\u001b[1;31m---------------------------------------------------------------------------\u001b[0m",
      "\u001b[1;31mTypeError\u001b[0m                                 Traceback (most recent call last)",
      "\u001b[1;32m~\\AppData\\Local\\Temp/ipykernel_9128/1914889636.py\u001b[0m in \u001b[0;36m<module>\u001b[1;34m\u001b[0m\n\u001b[1;32m----> 1\u001b[1;33m \u001b[0mstd_x\u001b[0m \u001b[1;33m=\u001b[0m \u001b[0mstd\u001b[0m\u001b[1;33m.\u001b[0m\u001b[0mfit_transform\u001b[0m\u001b[1;33m(\u001b[0m\u001b[0mx\u001b[0m\u001b[1;33m)\u001b[0m\u001b[1;33m\u001b[0m\u001b[1;33m\u001b[0m\u001b[0m\n\u001b[0m\u001b[0;32m      2\u001b[0m \u001b[0mprint\u001b[0m\u001b[1;33m(\u001b[0m\u001b[1;34m\"Stadraized Data \"\u001b[0m\u001b[1;33m,\u001b[0m\u001b[0mstd_x\u001b[0m\u001b[1;33m)\u001b[0m\u001b[1;33m\u001b[0m\u001b[1;33m\u001b[0m\u001b[0m\n\u001b[0;32m      3\u001b[0m \u001b[1;31m#input data\u001b[0m\u001b[1;33m\u001b[0m\u001b[1;33m\u001b[0m\u001b[0m\n\u001b[0;32m      4\u001b[0m \u001b[0mdata\u001b[0m\u001b[1;33m=\u001b[0m\u001b[1;33m(\u001b[0m\u001b[1;36m2\u001b[0m\u001b[1;33m,\u001b[0m\u001b[1;36m6\u001b[0m\u001b[1;33m,\u001b[0m\u001b[1;36m26\u001b[0m\u001b[1;33m,\u001b[0m\u001b[1;36m27\u001b[0m\u001b[1;33m,\u001b[0m\u001b[1;36m50\u001b[0m\u001b[1;33m,\u001b[0m\u001b[1;36m111\u001b[0m\u001b[1;33m,\u001b[0m\u001b[1;36m156\u001b[0m\u001b[1;33m,\u001b[0m\u001b[1;36m556\u001b[0m\u001b[1;33m,\u001b[0m\u001b[1;36m600\u001b[0m\u001b[1;33m,\u001b[0m\u001b[1;36m720\u001b[0m\u001b[1;33m)\u001b[0m\u001b[1;33m\u001b[0m\u001b[1;33m\u001b[0m\u001b[0m\n\u001b[0;32m      5\u001b[0m \u001b[1;31m# data as array\u001b[0m\u001b[1;33m\u001b[0m\u001b[1;33m\u001b[0m\u001b[0m\n",
      "\u001b[1;31mTypeError\u001b[0m: fit_transform() missing 1 required positional argument: 'X'"
     ]
    }
   ],
   "source": [
    "std_x = std.fit_transform(x)\n",
    "print(\"Stadraized Data \",std_x)\n",
    "#input data\n",
    "data=(2,6,26,27,50,111,156,556,600,720)\n",
    "# data as array\n",
    "array=np.array(input_data)\n",
    "#reshape array for only one instance\n",
    "input_reshape=input_array.reshape(1,-1)\n",
    "#Standradize data \n",
    "std_input=std.transform(input_reshape)\n",
    "print(\"Standradize Input Data \",std_input)"
   ]
  },
  {
   "cell_type": "code",
   "execution_count": null,
   "id": "19eaef0a",
   "metadata": {},
   "outputs": [],
   "source": []
  }
 ],
 "metadata": {
  "kernelspec": {
   "display_name": "Python 3 (ipykernel)",
   "language": "python",
   "name": "python3"
  },
  "language_info": {
   "codemirror_mode": {
    "name": "ipython",
    "version": 3
   },
   "file_extension": ".py",
   "mimetype": "text/x-python",
   "name": "python",
   "nbconvert_exporter": "python",
   "pygments_lexer": "ipython3",
   "version": "3.9.7"
  }
 },
 "nbformat": 4,
 "nbformat_minor": 5
}
